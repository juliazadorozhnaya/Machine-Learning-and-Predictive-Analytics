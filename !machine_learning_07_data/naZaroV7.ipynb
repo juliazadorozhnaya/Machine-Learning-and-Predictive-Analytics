{
 "cells": [
  {
   "cell_type": "code",
   "execution_count": 1,
   "metadata": {},
   "outputs": [],
   "source": [
    "import pandas as pd\n",
    "df = pd.read_csv(\"./data.csv\")"
   ]
  },
  {
   "cell_type": "code",
   "execution_count": 2,
   "metadata": {},
   "outputs": [
    {
     "name": "stderr",
     "output_type": "stream",
     "text": [
      "2024-03-03 20:48:46.101549: I tensorflow/core/platform/cpu_feature_guard.cc:182] This TensorFlow binary is optimized to use available CPU instructions in performance-critical operations.\n",
      "To enable the following instructions: AVX2 FMA, in other operations, rebuild TensorFlow with the appropriate compiler flags.\n",
      "/Users/yu.zadorozhnaya/Library/Python/3.9/lib/python/site-packages/urllib3/__init__.py:35: NotOpenSSLWarning: urllib3 v2 only supports OpenSSL 1.1.1+, currently the 'ssl' module is compiled with 'LibreSSL 2.8.3'. See: https://github.com/urllib3/urllib3/issues/3020\n",
      "  warnings.warn(\n"
     ]
    }
   ],
   "source": [
    "import tensorflow as tf\n",
    "from keras.models import Sequential\n",
    "from keras.layers import Dense\n",
    "import numpy as np"
   ]
  },
  {
   "cell_type": "code",
   "execution_count": 6,
   "metadata": {},
   "outputs": [],
   "source": [
    "X = np.array(df.loc[:, 'x1':'x10'])\n",
    "Y = np.array(df.loc[:,'y'])"
   ]
  },
  {
   "cell_type": "code",
   "execution_count": 8,
   "metadata": {},
   "outputs": [
    {
     "name": "stdout",
     "output_type": "stream",
     "text": [
      "Epoch 1/30\n",
      "313/313 - 1s - loss: 18.8127 - mse: 18.8127 - mae: 3.4982 - mape: 440.0619 - 1s/epoch - 4ms/step\n",
      "Epoch 2/30\n",
      "313/313 - 0s - loss: 15.9688 - mse: 15.9688 - mae: 3.2525 - mape: 266.7930 - 383ms/epoch - 1ms/step\n",
      "Epoch 3/30\n",
      "313/313 - 0s - loss: 14.0437 - mse: 14.0437 - mae: 3.0802 - mape: 361.5133 - 430ms/epoch - 1ms/step\n",
      "Epoch 4/30\n",
      "313/313 - 0s - loss: 12.7549 - mse: 12.7549 - mae: 2.9641 - mape: 418.8346 - 379ms/epoch - 1ms/step\n",
      "Epoch 5/30\n",
      "313/313 - 0s - loss: 11.9075 - mse: 11.9075 - mae: 2.8898 - mape: 470.3719 - 391ms/epoch - 1ms/step\n",
      "Epoch 6/30\n",
      "313/313 - 0s - loss: 11.3607 - mse: 11.3607 - mae: 2.8414 - mape: 566.4863 - 361ms/epoch - 1ms/step\n",
      "Epoch 7/30\n",
      "313/313 - 0s - loss: 11.0210 - mse: 11.0210 - mae: 2.8103 - mape: 618.7548 - 382ms/epoch - 1ms/step\n",
      "Epoch 8/30\n",
      "313/313 - 0s - loss: 10.8131 - mse: 10.8131 - mae: 2.7923 - mape: 642.4949 - 399ms/epoch - 1ms/step\n",
      "Epoch 9/30\n",
      "313/313 - 0s - loss: 10.6923 - mse: 10.6923 - mae: 2.7816 - mape: 685.4358 - 442ms/epoch - 1ms/step\n",
      "Epoch 10/30\n",
      "313/313 - 0s - loss: 10.6248 - mse: 10.6248 - mae: 2.7756 - mape: 705.7792 - 376ms/epoch - 1ms/step\n",
      "Epoch 11/30\n",
      "313/313 - 0s - loss: 10.5895 - mse: 10.5895 - mae: 2.7728 - mape: 724.4034 - 380ms/epoch - 1ms/step\n",
      "Epoch 12/30\n",
      "313/313 - 0s - loss: 10.5720 - mse: 10.5720 - mae: 2.7710 - mape: 736.3946 - 423ms/epoch - 1ms/step\n",
      "Epoch 13/30\n",
      "313/313 - 0s - loss: 10.5634 - mse: 10.5634 - mae: 2.7706 - mape: 746.4039 - 376ms/epoch - 1ms/step\n",
      "Epoch 14/30\n",
      "313/313 - 0s - loss: 10.5593 - mse: 10.5593 - mae: 2.7701 - mape: 748.5475 - 379ms/epoch - 1ms/step\n",
      "Epoch 15/30\n",
      "313/313 - 0s - loss: 10.5593 - mse: 10.5593 - mae: 2.7698 - mape: 759.5214 - 380ms/epoch - 1ms/step\n",
      "Epoch 16/30\n",
      "313/313 - 0s - loss: 10.5577 - mse: 10.5577 - mae: 2.7698 - mape: 758.6196 - 396ms/epoch - 1ms/step\n",
      "Epoch 17/30\n",
      "313/313 - 0s - loss: 10.5577 - mse: 10.5577 - mae: 2.7699 - mape: 754.5942 - 379ms/epoch - 1ms/step\n",
      "Epoch 18/30\n",
      "313/313 - 0s - loss: 10.5576 - mse: 10.5576 - mae: 2.7698 - mape: 755.8276 - 375ms/epoch - 1ms/step\n",
      "Epoch 19/30\n",
      "313/313 - 0s - loss: 10.5575 - mse: 10.5575 - mae: 2.7696 - mape: 757.7125 - 429ms/epoch - 1ms/step\n",
      "Epoch 20/30\n",
      "313/313 - 0s - loss: 10.5583 - mse: 10.5583 - mae: 2.7700 - mape: 759.5247 - 403ms/epoch - 1ms/step\n",
      "Epoch 21/30\n",
      "313/313 - 0s - loss: 10.5580 - mse: 10.5580 - mae: 2.7698 - mape: 762.5958 - 411ms/epoch - 1ms/step\n",
      "Epoch 22/30\n",
      "313/313 - 0s - loss: 10.5571 - mse: 10.5571 - mae: 2.7697 - mape: 760.0103 - 388ms/epoch - 1ms/step\n",
      "Epoch 23/30\n",
      "313/313 - 0s - loss: 10.5579 - mse: 10.5579 - mae: 2.7697 - mape: 761.3903 - 411ms/epoch - 1ms/step\n",
      "Epoch 24/30\n",
      "313/313 - 0s - loss: 10.5581 - mse: 10.5581 - mae: 2.7699 - mape: 755.0031 - 376ms/epoch - 1ms/step\n",
      "Epoch 25/30\n",
      "313/313 - 0s - loss: 10.5583 - mse: 10.5583 - mae: 2.7701 - mape: 755.8693 - 408ms/epoch - 1ms/step\n",
      "Epoch 26/30\n",
      "313/313 - 0s - loss: 10.5578 - mse: 10.5578 - mae: 2.7699 - mape: 760.2870 - 382ms/epoch - 1ms/step\n",
      "Epoch 27/30\n",
      "313/313 - 1s - loss: 10.5578 - mse: 10.5578 - mae: 2.7698 - mape: 758.9613 - 510ms/epoch - 2ms/step\n",
      "Epoch 28/30\n",
      "313/313 - 0s - loss: 10.5581 - mse: 10.5581 - mae: 2.7697 - mape: 757.8209 - 407ms/epoch - 1ms/step\n",
      "Epoch 29/30\n",
      "313/313 - 0s - loss: 10.5583 - mse: 10.5583 - mae: 2.7700 - mape: 762.4578 - 419ms/epoch - 1ms/step\n",
      "Epoch 30/30\n",
      "313/313 - 0s - loss: 10.5577 - mse: 10.5577 - mae: 2.7698 - mape: 759.6392 - 385ms/epoch - 1ms/step\n"
     ]
    }
   ],
   "source": [
    "model = Sequential()\n",
    "model.add(Dense(units=1, input_dim=10))\n",
    "model.compile(loss='mse', optimizer='adam', metrics=['mse', 'mae', 'mape'])\n",
    "history = model.fit(X, Y, epochs = 30, verbose = 2)"
   ]
  },
  {
   "cell_type": "code",
   "execution_count": 9,
   "metadata": {},
   "outputs": [
    {
     "data": {
      "image/png": "[encoded data removed]",
      "text/plain": [
       "<Figure size 640x480 with 1 Axes>"
      ]
     },
     "metadata": {},
     "output_type": "display_data"
    }
   ],
   "source": [
    "from matplotlib import pyplot\n",
    "pyplot.plot(history.history['mse'])\n",
    "pyplot.show()"
   ]
  },
  {
   "cell_type": "code",
   "execution_count": 10,
   "metadata": {},
   "outputs": [
    {
     "name": "stdout",
     "output_type": "stream",
     "text": [
      "313/313 [==============================] - 1s 1ms/step - loss: 10.5522 - mse: 10.5522 - mae: 2.7691 - mape: 760.1105\n"
     ]
    },
    {
     "data": {
      "text/plain": [
       "[10.55224609375, 10.55224609375, 2.769137144088745, 760.1104736328125]"
      ]
     },
     "execution_count": 10,
     "metadata": {},
     "output_type": "execute_result"
    }
   ],
   "source": [
    "model.evaluate(X, Y)"
   ]
  },
  {
   "cell_type": "code",
   "execution_count": 11,
   "metadata": {},
   "outputs": [
    {
     "name": "stdout",
     "output_type": "stream",
     "text": [
      "313/313 [==============================] - 0s 1ms/step - loss: 10.5536 - mse: 10.5536 - mae: 2.7693 - mape: 761.1748\n",
      "313/313 [==============================] - 0s 1ms/step - loss: 18.3281 - mse: 18.3281 - mae: 3.4740 - mape: 376.1338\n",
      "313/313 [==============================] - 1s 2ms/step - loss: 10.5520 - mse: 10.5520 - mae: 2.7690 - mape: 767.8063\n",
      "313/313 [==============================] - 0s 1ms/step - loss: 12.7645 - mse: 12.7645 - mae: 2.9659 - mape: 560.9469\n",
      "313/313 [==============================] - 0s 1ms/step - loss: 10.5521 - mse: 10.5521 - mae: 2.7691 - mape: 760.3127\n",
      "313/313 [==============================] - 0s 1ms/step - loss: 10.6089 - mse: 10.6089 - mae: 2.7747 - mape: 753.0550\n",
      "313/313 [==============================] - 0s 1ms/step - loss: 10.5536 - mse: 10.5536 - mae: 2.7696 - mape: 757.5707\n",
      "313/313 [==============================] - 0s 1ms/step - loss: 10.7697 - mse: 10.7697 - mae: 2.7865 - mape: 738.3457\n",
      "313/313 [==============================] - 0s 1ms/step - loss: 10.5531 - mse: 10.5531 - mae: 2.7692 - mape: 759.7425\n",
      "313/313 [==============================] - 1s 2ms/step - loss: 11.0238 - mse: 11.0238 - mae: 2.8171 - mape: 642.3639\n"
     ]
    }
   ],
   "source": [
    "shuffle = []\n",
    "for i in range(10):\n",
    "    X1 = X.copy()\n",
    "    X1[:,i] = np.random.permutation(np.transpose(X1[:,i]))\n",
    "    shuffle.append(model.evaluate(X1, Y))"
   ]
  },
  {
   "cell_type": "code",
   "execution_count": 12,
   "metadata": {},
   "outputs": [
    {
     "name": "stdout",
     "output_type": "stream",
     "text": [
      "313/313 [==============================] - 0s 1ms/step - loss: 10.5522 - mse: 10.5522 - mae: 2.7691 - mape: 760.1105\n"
     ]
    },
    {
     "data": {
      "text/plain": [
       "[10.55224609375, 10.55224609375, 2.769137144088745, 760.1104736328125]"
      ]
     },
     "execution_count": 12,
     "metadata": {},
     "output_type": "execute_result"
    }
   ],
   "source": [
    "model.evaluate(X, Y)"
   ]
  },
  {
   "cell_type": "code",
   "execution_count": 13,
   "metadata": {},
   "outputs": [
    {
     "name": "stdout",
     "output_type": "stream",
     "text": [
      "[10.553566932678223, 10.553566932678223, 2.769329071044922, 761.1748046875]\n",
      "[18.328083038330078, 18.328083038330078, 3.4740233421325684, 376.1337890625]\n",
      "[10.55202865600586, 10.55202865600586, 2.768950939178467, 767.8062744140625]\n",
      "[12.764470100402832, 12.764470100402832, 2.96585750579834, 560.9468994140625]\n",
      "[10.55210018157959, 10.55210018157959, 2.769120931625366, 760.3126831054688]\n",
      "[10.608945846557617, 10.608945846557617, 2.7746922969818115, 753.0549926757812]\n",
      "[10.553553581237793, 10.553553581237793, 2.769596576690674, 757.5707397460938]\n",
      "[10.769679069519043, 10.769679069519043, 2.786492347717285, 738.345703125]\n",
      "[10.553094863891602, 10.553094863891602, 2.7691850662231445, 759.7424926757812]\n",
      "[11.023792266845703, 11.023792266845703, 2.8171353340148926, 642.3638916015625]\n"
     ]
    }
   ],
   "source": [
    "for i in range(10):\n",
    "    print(shuffle[i])"
   ]
  },
  {
   "cell_type": "code",
   "execution_count": null,
   "metadata": {},
   "outputs": [],
   "source": []
  },
  {
   "cell_type": "code",
   "execution_count": 14,
   "metadata": {},
   "outputs": [],
   "source": [
    "from keras.layers import Activation"
   ]
  },
  {
   "cell_type": "code",
   "execution_count": 15,
   "metadata": {},
   "outputs": [],
   "source": [
    "model1 = Sequential()\n",
    "model1.add(Dense(units=5, input_dim=10))\n",
    "model1.add(Activation('sigmoid'))\n",
    "model1.add(Dense(units=1, input_dim=5))"
   ]
  },
  {
   "cell_type": "code",
   "execution_count": 17,
   "metadata": {},
   "outputs": [
    {
     "name": "stdout",
     "output_type": "stream",
     "text": [
      "Epoch 1/30\n",
      "313/313 - 1s - loss: 17.2732 - mse: 17.2732 - mae: 3.3584 - mape: 176.6384 - 1s/epoch - 4ms/step\n",
      "Epoch 2/30\n",
      "313/313 - 0s - loss: 15.1882 - mse: 15.1882 - mae: 3.1792 - mape: 374.4038 - 375ms/epoch - 1ms/step\n",
      "Epoch 3/30\n",
      "313/313 - 0s - loss: 13.8597 - mse: 13.8597 - mae: 3.0646 - mape: 512.1409 - 374ms/epoch - 1ms/step\n",
      "Epoch 4/30\n",
      "313/313 - 0s - loss: 12.8394 - mse: 12.8394 - mae: 2.9730 - mape: 570.3452 - 424ms/epoch - 1ms/step\n",
      "Epoch 5/30\n",
      "313/313 - 0s - loss: 12.0921 - mse: 12.0921 - mae: 2.9091 - mape: 636.4736 - 393ms/epoch - 1ms/step\n",
      "Epoch 6/30\n",
      "313/313 - 0s - loss: 11.5920 - mse: 11.5920 - mae: 2.8640 - mape: 662.6943 - 437ms/epoch - 1ms/step\n",
      "Epoch 7/30\n",
      "313/313 - 0s - loss: 11.2814 - mse: 11.2814 - mae: 2.8366 - mape: 680.0295 - 413ms/epoch - 1ms/step\n",
      "Epoch 8/30\n",
      "313/313 - 0s - loss: 11.1029 - mse: 11.1029 - mae: 2.8205 - mape: 711.7067 - 392ms/epoch - 1ms/step\n",
      "Epoch 9/30\n",
      "313/313 - 0s - loss: 11.0040 - mse: 11.0040 - mae: 2.8114 - mape: 729.6891 - 437ms/epoch - 1ms/step\n",
      "Epoch 10/30\n",
      "313/313 - 0s - loss: 10.9518 - mse: 10.9518 - mae: 2.8064 - mape: 729.4734 - 419ms/epoch - 1ms/step\n",
      "Epoch 11/30\n",
      "313/313 - 0s - loss: 10.9175 - mse: 10.9175 - mae: 2.8033 - mape: 749.7049 - 398ms/epoch - 1ms/step\n",
      "Epoch 12/30\n",
      "313/313 - 0s - loss: 10.8950 - mse: 10.8950 - mae: 2.8010 - mape: 750.8102 - 378ms/epoch - 1ms/step\n",
      "Epoch 13/30\n",
      "313/313 - 0s - loss: 10.8750 - mse: 10.8750 - mae: 2.7988 - mape: 753.8735 - 463ms/epoch - 1ms/step\n",
      "Epoch 14/30\n",
      "313/313 - 1s - loss: 10.8557 - mse: 10.8557 - mae: 2.7967 - mape: 754.7764 - 532ms/epoch - 2ms/step\n",
      "Epoch 15/30\n",
      "313/313 - 0s - loss: 10.8413 - mse: 10.8413 - mae: 2.7956 - mape: 753.6888 - 391ms/epoch - 1ms/step\n",
      "Epoch 16/30\n",
      "313/313 - 0s - loss: 10.8270 - mse: 10.8270 - mae: 2.7941 - mape: 756.9294 - 417ms/epoch - 1ms/step\n",
      "Epoch 17/30\n",
      "313/313 - 0s - loss: 10.8111 - mse: 10.8111 - mae: 2.7927 - mape: 754.4319 - 451ms/epoch - 1ms/step\n",
      "Epoch 18/30\n",
      "313/313 - 0s - loss: 10.7985 - mse: 10.7985 - mae: 2.7911 - mape: 757.7601 - 413ms/epoch - 1ms/step\n",
      "Epoch 19/30\n",
      "313/313 - 0s - loss: 10.7866 - mse: 10.7866 - mae: 2.7899 - mape: 754.9929 - 398ms/epoch - 1ms/step\n",
      "Epoch 20/30\n",
      "313/313 - 0s - loss: 10.7761 - mse: 10.7761 - mae: 2.7888 - mape: 763.1946 - 451ms/epoch - 1ms/step\n",
      "Epoch 21/30\n",
      "313/313 - 0s - loss: 10.7649 - mse: 10.7649 - mae: 2.7879 - mape: 760.1346 - 424ms/epoch - 1ms/step\n",
      "Epoch 22/30\n",
      "313/313 - 0s - loss: 10.7542 - mse: 10.7542 - mae: 2.7864 - mape: 764.7991 - 416ms/epoch - 1ms/step\n",
      "Epoch 23/30\n",
      "313/313 - 0s - loss: 10.7458 - mse: 10.7458 - mae: 2.7855 - mape: 765.8931 - 406ms/epoch - 1ms/step\n",
      "Epoch 24/30\n",
      "313/313 - 0s - loss: 10.7371 - mse: 10.7371 - mae: 2.7848 - mape: 760.7203 - 450ms/epoch - 1ms/step\n",
      "Epoch 25/30\n",
      "313/313 - 0s - loss: 10.7292 - mse: 10.7292 - mae: 2.7841 - mape: 761.2097 - 424ms/epoch - 1ms/step\n",
      "Epoch 26/30\n",
      "313/313 - 0s - loss: 10.7213 - mse: 10.7213 - mae: 2.7831 - mape: 765.8576 - 410ms/epoch - 1ms/step\n",
      "Epoch 27/30\n",
      "313/313 - 0s - loss: 10.7146 - mse: 10.7146 - mae: 2.7827 - mape: 760.9320 - 378ms/epoch - 1ms/step\n",
      "Epoch 28/30\n",
      "313/313 - 0s - loss: 10.7087 - mse: 10.7087 - mae: 2.7822 - mape: 755.0161 - 404ms/epoch - 1ms/step\n",
      "Epoch 29/30\n",
      "313/313 - 0s - loss: 10.7018 - mse: 10.7018 - mae: 2.7815 - mape: 753.4443 - 396ms/epoch - 1ms/step\n",
      "Epoch 30/30\n",
      "313/313 - 0s - loss: 10.6956 - mse: 10.6956 - mae: 2.7807 - mape: 761.0438 - 419ms/epoch - 1ms/step\n"
     ]
    }
   ],
   "source": [
    "model1.compile(loss='mse', optimizer='adam', metrics=['mse', 'mae', 'mape'])\n",
    "history1 = model1.fit(X, Y, epochs = 30, verbose = 2)"
   ]
  },
  {
   "cell_type": "code",
   "execution_count": 18,
   "metadata": {},
   "outputs": [
    {
     "data": {
      "image/png": "[encoded data removed]",
      "text/plain": [
       "<Figure size 640x480 with 1 Axes>"
      ]
     },
     "metadata": {},
     "output_type": "display_data"
    }
   ],
   "source": [
    "pyplot.plot(history1.history['mse'])\n",
    "pyplot.show()"
   ]
  },
  {
   "cell_type": "code",
   "execution_count": 19,
   "metadata": {},
   "outputs": [
    {
     "name": "stdout",
     "output_type": "stream",
     "text": [
      "313/313 [==============================] - 0s 1ms/step - loss: 10.5513 - mse: 10.5513 - mae: 2.7690 - mape: 758.8602\n",
      "313/313 [==============================] - 0s 1ms/step - loss: 18.5573 - mse: 18.5573 - mae: 3.5029 - mape: 530.7338\n",
      "313/313 [==============================] - 0s 1ms/step - loss: 10.5526 - mse: 10.5526 - mae: 2.7688 - mape: 763.6374\n",
      "313/313 [==============================] - 0s 1ms/step - loss: 12.5883 - mse: 12.5883 - mae: 2.9526 - mape: 754.5253\n",
      "313/313 [==============================] - 0s 1ms/step - loss: 10.5523 - mse: 10.5523 - mae: 2.7691 - mape: 760.4852\n",
      "313/313 [==============================] - 0s 1ms/step - loss: 10.6160 - mse: 10.6160 - mae: 2.7746 - mape: 721.9844\n",
      "313/313 [==============================] - 0s 1ms/step - loss: 10.5536 - mse: 10.5536 - mae: 2.7694 - mape: 756.2629\n",
      "313/313 [==============================] - 0s 1ms/step - loss: 10.8283 - mse: 10.8283 - mae: 2.7957 - mape: 767.2664\n",
      "313/313 [==============================] - 0s 1ms/step - loss: 10.5540 - mse: 10.5540 - mae: 2.7691 - mape: 762.6414\n",
      "313/313 [==============================] - 0s 1ms/step - loss: 10.9555 - mse: 10.9555 - mae: 2.8068 - mape: 625.3319\n"
     ]
    }
   ],
   "source": [
    "shuffle1 = []\n",
    "for i in range(10):\n",
    "    X1 = X.copy()\n",
    "    X1[:,i] = np.random.permutation(np.transpose(X1[:,i]))\n",
    "    shuffle1.append(model.evaluate(X1, Y))"
   ]
  },
  {
   "cell_type": "code",
   "execution_count": 20,
   "metadata": {},
   "outputs": [
    {
     "name": "stdout",
     "output_type": "stream",
     "text": [
      "313/313 [==============================] - 1s 1ms/step - loss: 10.6833 - mse: 10.6833 - mae: 2.7793 - mape: 766.5064\n"
     ]
    },
    {
     "data": {
      "text/plain": [
       "[10.683292388916016, 10.683292388916016, 2.779259204864502, 766.5064086914062]"
      ]
     },
     "execution_count": 20,
     "metadata": {},
     "output_type": "execute_result"
    }
   ],
   "source": [
    "model1.evaluate(X, Y)"
   ]
  },
  {
   "cell_type": "code",
   "execution_count": 21,
   "metadata": {},
   "outputs": [
    {
     "name": "stdout",
     "output_type": "stream",
     "text": [
      "[10.551349639892578, 10.551349639892578, 2.769049644470215, 758.8602294921875]\n",
      "[18.55726432800293, 18.55726432800293, 3.502875328063965, 530.7338256835938]\n",
      "[10.552589416503906, 10.552589416503906, 2.7688353061676025, 763.6373901367188]\n",
      "[12.588329315185547, 12.588329315185547, 2.952576160430908, 754.5253295898438]\n",
      "[10.552315711975098, 10.552315711975098, 2.769141435623169, 760.4852294921875]\n",
      "[10.616000175476074, 10.616000175476074, 2.774627923965454, 721.984375]\n",
      "[10.553565979003906, 10.553565979003906, 2.7693774700164795, 756.262939453125]\n",
      "[10.828269958496094, 10.828269958496094, 2.7956717014312744, 767.266357421875]\n",
      "[10.554036140441895, 10.554036140441895, 2.769137382507324, 762.6414184570312]\n",
      "[10.955503463745117, 10.955503463745117, 2.806818723678589, 625.3319091796875]\n"
     ]
    }
   ],
   "source": [
    "for i in range(10):\n",
    "    print(shuffle1[i])"
   ]
  },
  {
   "cell_type": "code",
   "execution_count": null,
   "metadata": {},
   "outputs": [],
   "source": [
    "2 4 10 86"
   ]
  }
 ],
 "metadata": {
  "kernelspec": {
   "display_name": "Python 3",
   "language": "python",
   "name": "python3"
  },
  "language_info": {
   "codemirror_mode": {
    "name": "ipython",
    "version": 3
   },
   "file_extension": ".py",
   "mimetype": "text/x-python",
   "name": "python",
   "nbconvert_exporter": "python",
   "pygments_lexer": "ipython3",
   "version": "3.9.6"
  }
 },
 "nbformat": 4,
 "nbformat_minor": 4
}
