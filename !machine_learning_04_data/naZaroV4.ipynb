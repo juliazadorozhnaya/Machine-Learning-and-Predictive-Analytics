{
 "cells": [
  {
   "cell_type": "code",
   "execution_count": 4,
   "id": "cf433ff4",
   "metadata": {},
   "outputs": [],
   "source": [
    "import pandas as pd\n",
    "import numpy as np\n",
    "import os\n",
    "from sklearn.ensemble import RandomForestClassifier\n",
    "import xgboost as xgb"
   ]
  },
  {
   "cell_type": "code",
   "execution_count": 5,
   "id": "f7a73db2",
   "metadata": {},
   "outputs": [],
   "source": [
    "data_path = \"/Users/yu.zadorozhnaya/Machine-Learning-and-Predictive-Analytics-MSU-/machine_learning_04_data\"\n",
    "train = pd.read_csv(os.path.join(data_path,\"train_sample.csv\"))\n",
    "test = pd.read_csv(os.path.join(data_path,\"test_sample.csv\"))"
   ]
  },
  {
   "cell_type": "code",
   "execution_count": 6,
   "id": "ea3e6c1c",
   "metadata": {},
   "outputs": [
    {
     "data": {
      "text/html": [
       "<div>\n",
       "<style scoped>\n",
       "    .dataframe tbody tr th:only-of-type {\n",
       "        vertical-align: middle;\n",
       "    }\n",
       "\n",
       "    .dataframe tbody tr th {\n",
       "        vertical-align: top;\n",
       "    }\n",
       "\n",
       "    .dataframe thead th {\n",
       "        text-align: right;\n",
       "    }\n",
       "</style>\n",
       "<table border=\"1\" class=\"dataframe\">\n",
       "  <thead>\n",
       "    <tr style=\"text-align: right;\">\n",
       "      <th></th>\n",
       "      <th>X1</th>\n",
       "      <th>X2</th>\n",
       "      <th>X3</th>\n",
       "      <th>X4</th>\n",
       "      <th>X5</th>\n",
       "      <th>X6</th>\n",
       "      <th>X7</th>\n",
       "    </tr>\n",
       "  </thead>\n",
       "  <tbody>\n",
       "    <tr>\n",
       "      <th>0</th>\n",
       "      <td>0.871771</td>\n",
       "      <td>0.905350</td>\n",
       "      <td>0.555100</td>\n",
       "      <td>0.239740</td>\n",
       "      <td>0.976275</td>\n",
       "      <td>0.107325</td>\n",
       "      <td>0.826784</td>\n",
       "    </tr>\n",
       "    <tr>\n",
       "      <th>1</th>\n",
       "      <td>0.092639</td>\n",
       "      <td>0.934172</td>\n",
       "      <td>0.127539</td>\n",
       "      <td>0.790953</td>\n",
       "      <td>0.052702</td>\n",
       "      <td>0.389997</td>\n",
       "      <td>0.766328</td>\n",
       "    </tr>\n",
       "    <tr>\n",
       "      <th>2</th>\n",
       "      <td>0.769920</td>\n",
       "      <td>0.932810</td>\n",
       "      <td>0.970285</td>\n",
       "      <td>0.000200</td>\n",
       "      <td>0.416587</td>\n",
       "      <td>0.911954</td>\n",
       "      <td>0.209831</td>\n",
       "    </tr>\n",
       "    <tr>\n",
       "      <th>3</th>\n",
       "      <td>0.249039</td>\n",
       "      <td>0.059093</td>\n",
       "      <td>0.479781</td>\n",
       "      <td>0.614687</td>\n",
       "      <td>0.030063</td>\n",
       "      <td>0.468889</td>\n",
       "      <td>0.310273</td>\n",
       "    </tr>\n",
       "    <tr>\n",
       "      <th>4</th>\n",
       "      <td>0.398352</td>\n",
       "      <td>0.108593</td>\n",
       "      <td>0.088371</td>\n",
       "      <td>0.819770</td>\n",
       "      <td>0.449875</td>\n",
       "      <td>0.989026</td>\n",
       "      <td>0.249356</td>\n",
       "    </tr>\n",
       "  </tbody>\n",
       "</table>\n",
       "</div>"
      ],
      "text/plain": [
       "         X1        X2        X3        X4        X5        X6        X7\n",
       "0  0.871771  0.905350  0.555100  0.239740  0.976275  0.107325  0.826784\n",
       "1  0.092639  0.934172  0.127539  0.790953  0.052702  0.389997  0.766328\n",
       "2  0.769920  0.932810  0.970285  0.000200  0.416587  0.911954  0.209831\n",
       "3  0.249039  0.059093  0.479781  0.614687  0.030063  0.468889  0.310273\n",
       "4  0.398352  0.108593  0.088371  0.819770  0.449875  0.989026  0.249356"
      ]
     },
     "execution_count": 6,
     "metadata": {},
     "output_type": "execute_result"
    }
   ],
   "source": [
    "test.head()"
   ]
  },
  {
   "cell_type": "code",
   "execution_count": 7,
   "id": "ad278570",
   "metadata": {},
   "outputs": [
    {
     "data": {
      "text/html": [
       "<div>\n",
       "<style scoped>\n",
       "    .dataframe tbody tr th:only-of-type {\n",
       "        vertical-align: middle;\n",
       "    }\n",
       "\n",
       "    .dataframe tbody tr th {\n",
       "        vertical-align: top;\n",
       "    }\n",
       "\n",
       "    .dataframe thead th {\n",
       "        text-align: right;\n",
       "    }\n",
       "</style>\n",
       "<table border=\"1\" class=\"dataframe\">\n",
       "  <thead>\n",
       "    <tr style=\"text-align: right;\">\n",
       "      <th></th>\n",
       "      <th>X1</th>\n",
       "      <th>X2</th>\n",
       "      <th>X3</th>\n",
       "      <th>X4</th>\n",
       "      <th>X5</th>\n",
       "      <th>X6</th>\n",
       "      <th>X7</th>\n",
       "      <th>class</th>\n",
       "    </tr>\n",
       "  </thead>\n",
       "  <tbody>\n",
       "    <tr>\n",
       "      <th>0</th>\n",
       "      <td>0.652472</td>\n",
       "      <td>0.204031</td>\n",
       "      <td>0.587416</td>\n",
       "      <td>0.147057</td>\n",
       "      <td>0.646242</td>\n",
       "      <td>0.927309</td>\n",
       "      <td>0.500918</td>\n",
       "      <td>1</td>\n",
       "    </tr>\n",
       "    <tr>\n",
       "      <th>1</th>\n",
       "      <td>0.151208</td>\n",
       "      <td>0.075754</td>\n",
       "      <td>0.952729</td>\n",
       "      <td>0.917972</td>\n",
       "      <td>0.714318</td>\n",
       "      <td>0.882891</td>\n",
       "      <td>0.325293</td>\n",
       "      <td>0</td>\n",
       "    </tr>\n",
       "    <tr>\n",
       "      <th>2</th>\n",
       "      <td>0.654684</td>\n",
       "      <td>0.610544</td>\n",
       "      <td>0.039420</td>\n",
       "      <td>0.049184</td>\n",
       "      <td>0.635003</td>\n",
       "      <td>0.766042</td>\n",
       "      <td>0.972134</td>\n",
       "      <td>1</td>\n",
       "    </tr>\n",
       "    <tr>\n",
       "      <th>3</th>\n",
       "      <td>0.446010</td>\n",
       "      <td>0.387978</td>\n",
       "      <td>0.310912</td>\n",
       "      <td>0.911122</td>\n",
       "      <td>0.744979</td>\n",
       "      <td>0.416282</td>\n",
       "      <td>0.402164</td>\n",
       "      <td>0</td>\n",
       "    </tr>\n",
       "    <tr>\n",
       "      <th>4</th>\n",
       "      <td>0.781609</td>\n",
       "      <td>0.112714</td>\n",
       "      <td>0.088151</td>\n",
       "      <td>0.622971</td>\n",
       "      <td>0.127196</td>\n",
       "      <td>0.245402</td>\n",
       "      <td>0.619664</td>\n",
       "      <td>0</td>\n",
       "    </tr>\n",
       "  </tbody>\n",
       "</table>\n",
       "</div>"
      ],
      "text/plain": [
       "         X1        X2        X3        X4        X5        X6        X7  class\n",
       "0  0.652472  0.204031  0.587416  0.147057  0.646242  0.927309  0.500918      1\n",
       "1  0.151208  0.075754  0.952729  0.917972  0.714318  0.882891  0.325293      0\n",
       "2  0.654684  0.610544  0.039420  0.049184  0.635003  0.766042  0.972134      1\n",
       "3  0.446010  0.387978  0.310912  0.911122  0.744979  0.416282  0.402164      0\n",
       "4  0.781609  0.112714  0.088151  0.622971  0.127196  0.245402  0.619664      0"
      ]
     },
     "execution_count": 7,
     "metadata": {},
     "output_type": "execute_result"
    }
   ],
   "source": [
    "train.head()"
   ]
  },
  {
   "cell_type": "code",
   "execution_count": 8,
   "id": "68e2ec8b",
   "metadata": {},
   "outputs": [],
   "source": [
    "y = train[\"class\"]\n",
    "X = train.drop(\"class\", axis=1)"
   ]
  },
  {
   "cell_type": "code",
   "execution_count": 9,
   "id": "6838d19d",
   "metadata": {},
   "outputs": [],
   "source": [
    "param = {'objective': 'binary:logistic', 'eval_metric': 'auc'}"
   ]
  },
  {
   "cell_type": "code",
   "execution_count": 10,
   "id": "332632c7",
   "metadata": {},
   "outputs": [
    {
     "data": {
      "text/html": [
       "<div>\n",
       "<style scoped>\n",
       "    .dataframe tbody tr th:only-of-type {\n",
       "        vertical-align: middle;\n",
       "    }\n",
       "\n",
       "    .dataframe tbody tr th {\n",
       "        vertical-align: top;\n",
       "    }\n",
       "\n",
       "    .dataframe thead th {\n",
       "        text-align: right;\n",
       "    }\n",
       "</style>\n",
       "<table border=\"1\" class=\"dataframe\">\n",
       "  <thead>\n",
       "    <tr style=\"text-align: right;\">\n",
       "      <th></th>\n",
       "      <th>train-auc-mean</th>\n",
       "      <th>train-auc-std</th>\n",
       "      <th>test-auc-mean</th>\n",
       "      <th>test-auc-std</th>\n",
       "    </tr>\n",
       "  </thead>\n",
       "  <tbody>\n",
       "    <tr>\n",
       "      <th>0</th>\n",
       "      <td>0.969278</td>\n",
       "      <td>0.002957</td>\n",
       "      <td>0.913147</td>\n",
       "      <td>0.021896</td>\n",
       "    </tr>\n",
       "    <tr>\n",
       "      <th>1</th>\n",
       "      <td>0.986247</td>\n",
       "      <td>0.001445</td>\n",
       "      <td>0.918729</td>\n",
       "      <td>0.026632</td>\n",
       "    </tr>\n",
       "    <tr>\n",
       "      <th>2</th>\n",
       "      <td>0.990329</td>\n",
       "      <td>0.001958</td>\n",
       "      <td>0.922981</td>\n",
       "      <td>0.026175</td>\n",
       "    </tr>\n",
       "    <tr>\n",
       "      <th>3</th>\n",
       "      <td>0.992868</td>\n",
       "      <td>0.000971</td>\n",
       "      <td>0.927300</td>\n",
       "      <td>0.022272</td>\n",
       "    </tr>\n",
       "    <tr>\n",
       "      <th>4</th>\n",
       "      <td>0.995010</td>\n",
       "      <td>0.000748</td>\n",
       "      <td>0.925574</td>\n",
       "      <td>0.024126</td>\n",
       "    </tr>\n",
       "  </tbody>\n",
       "</table>\n",
       "</div>"
      ],
      "text/plain": [
       "   train-auc-mean  train-auc-std  test-auc-mean  test-auc-std\n",
       "0        0.969278       0.002957       0.913147      0.021896\n",
       "1        0.986247       0.001445       0.918729      0.026632\n",
       "2        0.990329       0.001958       0.922981      0.026175\n",
       "3        0.992868       0.000971       0.927300      0.022272\n",
       "4        0.995010       0.000748       0.925574      0.024126"
      ]
     },
     "execution_count": 10,
     "metadata": {},
     "output_type": "execute_result"
    }
   ],
   "source": [
    "dtrain = xgb.DMatrix(X, label=y)\n",
    "m = xgb.cv(param, dtrain, nfold = 5,num_boost_round=50)\n",
    "m.head()"
   ]
  },
  {
   "cell_type": "code",
   "execution_count": 11,
   "id": "d7fbe98c",
   "metadata": {},
   "outputs": [
    {
     "name": "stdout",
     "output_type": "stream",
     "text": [
      "Best number of rounds = 49; AUC = 0.945656\n"
     ]
    }
   ],
   "source": [
    "bestNR = np.argmax(m['test-auc-mean'])\n",
    "bestAUC = m.loc[bestNR,'test-auc-mean']\n",
    "print(\"Best number of rounds = %i; AUC = %f\" %(bestNR, bestAUC))"
   ]
  },
  {
   "cell_type": "code",
   "execution_count": 12,
   "id": "bf337844",
   "metadata": {},
   "outputs": [],
   "source": [
    "best_xgb = xgb.train(param, dtrain, num_boost_round=bestNR)"
   ]
  },
  {
   "cell_type": "code",
   "execution_count": 13,
   "id": "6cdd52a8",
   "metadata": {},
   "outputs": [
    {
     "data": {
      "text/plain": [
       "(500,)"
      ]
     },
     "execution_count": 13,
     "metadata": {},
     "output_type": "execute_result"
    }
   ],
   "source": [
    "prediction = best_xgb.predict(xgb.DMatrix(test))\n",
    "prediction.shape"
   ]
  },
  {
   "cell_type": "code",
   "execution_count": 14,
   "id": "c7e14322",
   "metadata": {},
   "outputs": [],
   "source": [
    "RF = RandomForestClassifier(random_state=0).fit(X, y)\n",
    "t = pd.Series(RF.feature_importances_, index=range(1,8))"
   ]
  },
  {
   "cell_type": "code",
   "execution_count": 15,
   "id": "f9f8f38d",
   "metadata": {},
   "outputs": [
    {
     "data": {
      "text/plain": [
       "Index([2, 4, 5, 3, 1, 7, 6], dtype='int64')"
      ]
     },
     "execution_count": 15,
     "metadata": {},
     "output_type": "execute_result"
    }
   ],
   "source": [
    "rf_most_important = t.sort_values(ascending=False).index\n",
    "rf_most_important"
   ]
  },
  {
   "cell_type": "code",
   "execution_count": 16,
   "id": "a6f6954b",
   "metadata": {},
   "outputs": [],
   "source": [
    "np.savez('submission.npz', rf_most_important=rf_most_important[0], \n",
    "         prediction=prediction)"
   ]
  },
  {
   "cell_type": "code",
   "execution_count": 17,
   "id": "3f221e0b",
   "metadata": {},
   "outputs": [
    {
     "name": "stdout",
     "output_type": "stream",
     "text": [
      "2 (500,)\n"
     ]
    }
   ],
   "source": [
    "npzfile = np.load('submission.npz')\n",
    "print(npzfile['rf_most_important'],npzfile['prediction'].shape)"
   ]
  },
  {
   "cell_type": "code",
   "execution_count": null,
   "id": "d2352b00",
   "metadata": {},
   "outputs": [],
   "source": []
  },
  {
   "cell_type": "code",
   "execution_count": null,
   "id": "56e30dc0",
   "metadata": {},
   "outputs": [],
   "source": []
  }
 ],
 "metadata": {
  "kernelspec": {
   "display_name": "Python 3 (ipykernel)",
   "language": "python",
   "name": "python3"
  },
  "language_info": {
   "codemirror_mode": {
    "name": "ipython",
    "version": 3
   },
   "file_extension": ".py",
   "mimetype": "text/x-python",
   "name": "python",
   "nbconvert_exporter": "python",
   "pygments_lexer": "ipython3",
   "version": "3.9.6"
  }
 },
 "nbformat": 4,
 "nbformat_minor": 5
}
