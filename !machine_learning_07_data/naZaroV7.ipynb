{
 "cells": [
  {
   "cell_type": "code",
   "execution_count": 17,
   "metadata": {},
   "outputs": [],
   "source": [
    "import pandas as pd\n",
    "df = pd.read_csv(\"./data.csv\")"
   ]
  },
  {
   "cell_type": "code",
   "execution_count": 18,
   "metadata": {},
   "outputs": [],
   "source": [
    "import tensorflow as tf\n",
    "from keras.models import Sequential\n",
    "from keras.layers import Dense\n",
    "import numpy as np"
   ]
  },
  {
   "cell_type": "code",
   "execution_count": 19,
   "metadata": {},
   "outputs": [],
   "source": [
    "X = np.array(df.loc[:, 'x1':'x10'])\n",
    "Y = np.array(df.loc[:,'y'])"
   ]
  },
  {
   "cell_type": "code",
   "execution_count": 20,
   "metadata": {},
   "outputs": [
    {
     "name": "stdout",
     "output_type": "stream",
     "text": [
      "Epoch 1/30\n",
      " - 1s - loss: 17.6456 - mse: 17.6456 - mae: 3.4176 - mape: 225.5004 - cosine: 0.1420\n",
      "Epoch 2/30\n",
      " - 1s - loss: 15.1268 - mse: 15.1268 - mae: 3.1939 - mape: 206.4250 - cosine: 0.2840\n",
      "Epoch 3/30\n",
      " - 1s - loss: 13.4369 - mse: 13.4369 - mae: 3.0399 - mape: 208.3779 - cosine: 0.3542\n",
      "Epoch 4/30\n",
      " - 1s - loss: 12.3154 - mse: 12.3154 - mae: 2.9357 - mape: 217.9101 - cosine: 0.3912\n",
      "Epoch 5/30\n",
      " - 1s - loss: 11.5927 - mse: 11.5927 - mae: 2.8717 - mape: 234.1237 - cosine: 0.4082\n",
      "Epoch 6/30\n",
      " - 1s - loss: 11.1406 - mse: 11.1406 - mae: 2.8295 - mape: 248.0903 - cosine: 0.4122\n",
      "Epoch 7/30\n",
      " - 1s - loss: 10.8694 - mse: 10.8694 - mae: 2.8051 - mape: 261.3226 - cosine: 0.4122\n",
      "Epoch 8/30\n",
      " - 1s - loss: 10.7165 - mse: 10.7165 - mae: 2.7909 - mape: 272.2761 - cosine: 0.4144\n",
      "Epoch 9/30\n",
      " - 1s - loss: 10.6349 - mse: 10.6349 - mae: 2.7830 - mape: 281.1840 - cosine: 0.4164\n",
      "Epoch 10/30\n",
      " - 1s - loss: 10.5948 - mse: 10.5948 - mae: 2.7790 - mape: 287.4543 - cosine: 0.4140\n",
      "Epoch 11/30\n",
      " - 1s - loss: 10.5753 - mse: 10.5753 - mae: 2.7768 - mape: 291.3061 - cosine: 0.4132\n",
      "Epoch 12/30\n",
      " - 1s - loss: 10.5661 - mse: 10.5661 - mae: 2.7756 - mape: 294.9229 - cosine: 0.4142\n",
      "Epoch 13/30\n",
      " - 1s - loss: 10.5619 - mse: 10.5619 - mae: 2.7750 - mape: 297.0382 - cosine: 0.4128\n",
      "Epoch 14/30\n",
      " - 1s - loss: 10.5606 - mse: 10.5606 - mae: 2.7749 - mape: 299.2409 - cosine: 0.4120\n",
      "Epoch 15/30\n",
      " - 1s - loss: 10.5595 - mse: 10.5595 - mae: 2.7745 - mape: 300.1543 - cosine: 0.4142\n",
      "Epoch 16/30\n",
      " - 1s - loss: 10.5593 - mse: 10.5593 - mae: 2.7745 - mape: 301.4434 - cosine: 0.4136\n",
      "Epoch 17/30\n",
      " - 1s - loss: 10.5594 - mse: 10.5594 - mae: 2.7745 - mape: 299.6461 - cosine: 0.4138\n",
      "Epoch 18/30\n",
      " - 1s - loss: 10.5588 - mse: 10.5588 - mae: 2.7743 - mape: 299.9796 - cosine: 0.4124\n",
      "Epoch 19/30\n",
      " - 1s - loss: 10.5593 - mse: 10.5593 - mae: 2.7744 - mape: 299.3115 - cosine: 0.4118\n",
      "Epoch 20/30\n",
      " - 1s - loss: 10.5592 - mse: 10.5592 - mae: 2.7743 - mape: 299.6382 - cosine: 0.4136\n",
      "Epoch 21/30\n",
      " - 1s - loss: 10.5594 - mse: 10.5594 - mae: 2.7744 - mape: 300.4315 - cosine: 0.4134\n",
      "Epoch 22/30\n",
      " - 1s - loss: 10.5598 - mse: 10.5598 - mae: 2.7744 - mape: 301.4755 - cosine: 0.4126\n",
      "Epoch 23/30\n",
      " - 1s - loss: 10.5593 - mse: 10.5593 - mae: 2.7745 - mape: 302.0462 - cosine: 0.4124\n",
      "Epoch 24/30\n",
      " - 1s - loss: 10.5601 - mse: 10.5601 - mae: 2.7745 - mape: 299.7987 - cosine: 0.4130\n",
      "Epoch 25/30\n",
      " - 1s - loss: 10.5597 - mse: 10.5597 - mae: 2.7744 - mape: 301.2037 - cosine: 0.4124\n",
      "Epoch 26/30\n",
      " - 1s - loss: 10.5592 - mse: 10.5592 - mae: 2.7745 - mape: 300.4471 - cosine: 0.4136\n",
      "Epoch 27/30\n",
      " - 1s - loss: 10.5594 - mse: 10.5594 - mae: 2.7744 - mape: 300.7721 - cosine: 0.4130\n",
      "Epoch 28/30\n",
      " - 1s - loss: 10.5592 - mse: 10.5592 - mae: 2.7742 - mape: 302.8297 - cosine: 0.4136\n",
      "Epoch 29/30\n",
      " - 1s - loss: 10.5592 - mse: 10.5592 - mae: 2.7745 - mape: 300.4894 - cosine: 0.4120\n",
      "Epoch 30/30\n",
      " - 1s - loss: 10.5599 - mse: 10.5599 - mae: 2.7746 - mape: 300.0977 - cosine: 0.4132\n"
     ]
    }
   ],
   "source": [
    "model = Sequential()\n",
    "model.add(Dense(units=1, input_dim=10))\n",
    "model.compile(loss='mse', optimizer='adam', metrics=['mse', 'mae', 'mape', 'cosine'])\n",
    "history = model.fit(X, Y, epochs = 30, verbose = 2)"
   ]
  },
  {
   "cell_type": "code",
   "execution_count": 21,
   "metadata": {},
   "outputs": [
    {
     "data": {
      "image/png": "[encoded data removed]",
      "text/plain": [
       "<Figure size 432x288 with 1 Axes>"
      ]
     },
     "metadata": {
      "needs_background": "light"
     },
     "output_type": "display_data"
    }
   ],
   "source": [
    "from matplotlib import pyplot\n",
    "pyplot.plot(history.history['mse'])\n",
    "pyplot.show()"
   ]
  },
  {
   "cell_type": "code",
   "execution_count": 22,
   "metadata": {},
   "outputs": [
    {
     "name": "stdout",
     "output_type": "stream",
     "text": [
      "10000/10000 [==============================] - 0s 48us/step\n"
     ]
    },
    {
     "data": {
      "text/plain": [
       "[10.553914526367187,\n",
       " 10.553912162780762,\n",
       " 2.773832321166992,\n",
       " 300.8109436035156,\n",
       " 0.41260001063346863]"
      ]
     },
     "execution_count": 22,
     "metadata": {},
     "output_type": "execute_result"
    }
   ],
   "source": [
    "model.evaluate(X, Y)"
   ]
  },
  {
   "cell_type": "code",
   "execution_count": 23,
   "metadata": {},
   "outputs": [
    {
     "name": "stdout",
     "output_type": "stream",
     "text": [
      "10000/10000 [==============================] - 1s 51us/step\n",
      "10000/10000 [==============================] - 0s 49us/step\n",
      "10000/10000 [==============================] - 1s 56us/step\n",
      "10000/10000 [==============================] - 1s 55us/step\n",
      "10000/10000 [==============================] - 0s 44us/step\n",
      "10000/10000 [==============================] - 0s 47us/step\n",
      "10000/10000 [==============================] - 0s 44us/step\n",
      "10000/10000 [==============================] - 0s 47us/step\n",
      "10000/10000 [==============================] - 0s 45us/step\n",
      "10000/10000 [==============================] - 0s 45us/step\n"
     ]
    }
   ],
   "source": [
    "shuffle = []\n",
    "for i in range(10):\n",
    "    X1 = X.copy()\n",
    "    X1[:,i] = np.random.permutation(np.transpose(X1[:,i]))\n",
    "    shuffle.append(model.evaluate(X1, Y))"
   ]
  },
  {
   "cell_type": "code",
   "execution_count": 24,
   "metadata": {},
   "outputs": [
    {
     "name": "stdout",
     "output_type": "stream",
     "text": [
      "10000/10000 [==============================] - 1s 62us/step\n"
     ]
    },
    {
     "data": {
      "text/plain": [
       "[10.553914526367187,\n",
       " 10.553912162780762,\n",
       " 2.773832321166992,\n",
       " 300.8109436035156,\n",
       " 0.41260001063346863]"
      ]
     },
     "execution_count": 24,
     "metadata": {},
     "output_type": "execute_result"
    }
   ],
   "source": [
    "model.evaluate(X, Y)"
   ]
  },
  {
   "cell_type": "code",
   "execution_count": 25,
   "metadata": {},
   "outputs": [
    {
     "name": "stdout",
     "output_type": "stream",
     "text": [
      "[10.554125415039062, 10.554128646850586, 2.77400803565979, 299.4754638671875, 0.41339999437332153]\n",
      "[10.98558456878662, 10.985588073730469, 2.8109772205352783, 335.56768798828125, 0.3903999924659729]\n",
      "[12.479804862976074, 12.479804039001465, 2.9455597400665283, 401.88665771484375, 0.36739999055862427]\n",
      "[10.734987489318847, 10.734984397888184, 2.7913594245910645, 272.559326171875, 0.40639999508857727]\n",
      "[10.556072163391113, 10.556068420410156, 2.7740721702575684, 300.27520751953125, 0.4129999876022339]\n",
      "[18.535005712890626, 18.535001754760742, 3.49790358543396, 360.81988525390625, 0.20800000429153442]\n",
      "[10.55446512298584, 10.554464340209961, 2.7738800048828125, 300.426513671875, 0.41179999709129333]\n",
      "[10.628242785644531, 10.628242492675781, 2.781963348388672, 273.7308349609375, 0.4052000045776367]\n",
      "[10.553728247070312, 10.553728103637695, 2.7738332748413086, 300.362548828125, 0.4129999876022339]\n",
      "[10.553890415954589, 10.553886413574219, 2.7738232612609863, 300.823486328125, 0.41280001401901245]\n"
     ]
    }
   ],
   "source": [
    "for i in range(10):\n",
    "    print(shuffle[i])"
   ]
  },
  {
   "cell_type": "code",
   "execution_count": null,
   "metadata": {},
   "outputs": [],
   "source": [
    "6 3 2 4 8"
   ]
  },
  {
   "cell_type": "code",
   "execution_count": 10,
   "metadata": {},
   "outputs": [],
   "source": [
    "from keras.layers import Activation"
   ]
  },
  {
   "cell_type": "code",
   "execution_count": 11,
   "metadata": {},
   "outputs": [],
   "source": [
    "model1 = Sequential()\n",
    "model1.add(Dense(units=5, input_dim=10))\n",
    "model1.add(Activation('sigmoid'))\n",
    "model1.add(Dense(units=1, input_dim=5))"
   ]
  },
  {
   "cell_type": "code",
   "execution_count": 12,
   "metadata": {},
   "outputs": [
    {
     "name": "stdout",
     "output_type": "stream",
     "text": [
      "Epoch 1/30\n",
      " - 1s - loss: 15.4138 - mse: 15.4138 - mae: 3.2220 - mape: 252.1019 - cosine: 0.2686\n",
      "Epoch 2/30\n",
      " - 1s - loss: 14.0394 - mse: 14.0394 - mae: 3.0972 - mape: 276.1205 - cosine: 0.2716\n",
      "Epoch 3/30\n",
      " - 1s - loss: 12.9222 - mse: 12.9222 - mae: 2.9920 - mape: 264.3343 - cosine: 0.3064\n",
      "Epoch 4/30\n",
      " - 1s - loss: 12.0595 - mse: 12.0595 - mae: 2.9143 - mape: 238.7395 - cosine: 0.3626\n",
      "Epoch 5/30\n",
      " - 1s - loss: 11.4881 - mse: 11.4881 - mae: 2.8600 - mape: 233.0115 - cosine: 0.3972\n",
      "Epoch 6/30\n",
      " - 1s - loss: 11.1591 - mse: 11.1591 - mae: 2.8302 - mape: 259.7800 - cosine: 0.4030\n",
      "Epoch 7/30\n",
      " - 1s - loss: 10.9847 - mse: 10.9847 - mae: 2.8121 - mape: 278.8428 - cosine: 0.4120\n",
      "Epoch 8/30\n",
      " - 1s - loss: 10.8982 - mse: 10.8982 - mae: 2.8044 - mape: 282.0933 - cosine: 0.4114\n",
      "Epoch 9/30\n",
      " - 1s - loss: 10.8528 - mse: 10.8528 - mae: 2.7994 - mape: 294.3866 - cosine: 0.4076\n",
      "Epoch 10/30\n",
      " - 1s - loss: 10.8267 - mse: 10.8267 - mae: 2.7971 - mape: 304.8111 - cosine: 0.4056\n",
      "Epoch 11/30\n",
      " - 1s - loss: 10.8099 - mse: 10.8099 - mae: 2.7953 - mape: 306.7804 - cosine: 0.4056\n",
      "Epoch 12/30\n",
      " - 1s - loss: 10.7939 - mse: 10.7939 - mae: 2.7936 - mape: 310.5899 - cosine: 0.4062\n",
      "Epoch 13/30\n",
      " - 1s - loss: 10.7816 - mse: 10.7816 - mae: 2.7924 - mape: 310.1693 - cosine: 0.4080\n",
      "Epoch 14/30\n",
      " - 1s - loss: 10.7678 - mse: 10.7678 - mae: 2.7915 - mape: 313.1307 - cosine: 0.4062\n",
      "Epoch 15/30\n",
      " - 1s - loss: 10.7595 - mse: 10.7595 - mae: 2.7902 - mape: 315.0032 - cosine: 0.4064\n",
      "Epoch 16/30\n",
      " - 1s - loss: 10.7494 - mse: 10.7494 - mae: 2.7900 - mape: 312.4964 - cosine: 0.4066\n",
      "Epoch 17/30\n",
      " - 1s - loss: 10.7364 - mse: 10.7364 - mae: 2.7883 - mape: 313.0833 - cosine: 0.4070\n",
      "Epoch 18/30\n",
      " - 1s - loss: 10.7260 - mse: 10.7260 - mae: 2.7872 - mape: 315.4904 - cosine: 0.4062\n",
      "Epoch 19/30\n",
      " - 1s - loss: 10.7154 - mse: 10.7154 - mae: 2.7864 - mape: 316.1844 - cosine: 0.4070\n",
      "Epoch 20/30\n",
      " - 1s - loss: 10.7061 - mse: 10.7061 - mae: 2.7854 - mape: 313.6609 - cosine: 0.4092\n",
      "Epoch 21/30\n",
      " - 1s - loss: 10.6973 - mse: 10.6973 - mae: 2.7846 - mape: 313.6704 - cosine: 0.4090\n",
      "Epoch 22/30\n",
      " - 1s - loss: 10.6876 - mse: 10.6876 - mae: 2.7842 - mape: 312.3532 - cosine: 0.4106\n",
      "Epoch 23/30\n",
      " - 1s - loss: 10.6778 - mse: 10.6778 - mae: 2.7832 - mape: 311.1084 - cosine: 0.4102\n",
      "Epoch 24/30\n",
      " - 1s - loss: 10.6681 - mse: 10.6681 - mae: 2.7822 - mape: 317.0594 - cosine: 0.4090\n",
      "Epoch 25/30\n",
      " - 1s - loss: 10.6567 - mse: 10.6567 - mae: 2.7816 - mape: 312.2508 - cosine: 0.4138\n",
      "Epoch 26/30\n",
      " - 1s - loss: 10.6472 - mse: 10.6472 - mae: 2.7806 - mape: 316.4574 - cosine: 0.4122\n",
      "Epoch 27/30\n",
      " - 1s - loss: 10.6349 - mse: 10.6349 - mae: 2.7795 - mape: 312.8780 - cosine: 0.4114\n",
      "Epoch 28/30\n",
      " - 1s - loss: 10.6231 - mse: 10.6231 - mae: 2.7778 - mape: 312.4022 - cosine: 0.4146\n",
      "Epoch 29/30\n",
      " - 1s - loss: 10.6098 - mse: 10.6098 - mae: 2.7766 - mape: 313.8449 - cosine: 0.4178\n",
      "Epoch 30/30\n",
      " - 1s - loss: 10.5957 - mse: 10.5957 - mae: 2.7757 - mape: 314.3551 - cosine: 0.4156\n"
     ]
    }
   ],
   "source": [
    "model1.compile(loss='mse', optimizer='adam', metrics=['mse', 'mae', 'mape', 'cosine'])\n",
    "history1 = model1.fit(X, Y, epochs = 30, verbose = 2)"
   ]
  },
  {
   "cell_type": "code",
   "execution_count": 13,
   "metadata": {},
   "outputs": [
    {
     "data": {
      "image/png": "[encoded data removed]",
      "text/plain": [
       "<Figure size 432x288 with 1 Axes>"
      ]
     },
     "metadata": {
      "needs_background": "light"
     },
     "output_type": "display_data"
    }
   ],
   "source": [
    "pyplot.plot(history1.history['mse'])\n",
    "pyplot.show()"
   ]
  },
  {
   "cell_type": "code",
   "execution_count": 14,
   "metadata": {},
   "outputs": [
    {
     "name": "stdout",
     "output_type": "stream",
     "text": [
      "10000/10000 [==============================] - 0s 47us/step\n",
      "10000/10000 [==============================] - 1s 63us/step\n",
      "10000/10000 [==============================] - 1s 58us/step\n",
      "10000/10000 [==============================] - 1s 60us/step\n",
      "10000/10000 [==============================] - 0s 43us/step\n",
      "10000/10000 [==============================] - 0s 45us/step\n",
      "10000/10000 [==============================] - 0s 43us/step\n",
      "10000/10000 [==============================] - 0s 43us/step\n",
      "10000/10000 [==============================] - 0s 43us/step\n",
      "10000/10000 [==============================] - 0s 42us/step\n"
     ]
    }
   ],
   "source": [
    "shuffle1 = []\n",
    "for i in range(10):\n",
    "    X1 = X.copy()\n",
    "    X1[:,i] = np.random.permutation(np.transpose(X1[:,i]))\n",
    "    shuffle1.append(model.evaluate(X1, Y))"
   ]
  },
  {
   "cell_type": "code",
   "execution_count": 15,
   "metadata": {},
   "outputs": [
    {
     "name": "stdout",
     "output_type": "stream",
     "text": [
      "10000/10000 [==============================] - 0s 49us/step\n"
     ]
    },
    {
     "data": {
      "text/plain": [
       "[10.57657959136963,\n",
       " 10.576582908630371,\n",
       " 2.773685932159424,\n",
       " 314.5010681152344,\n",
       " 0.41780000925064087]"
      ]
     },
     "execution_count": 15,
     "metadata": {},
     "output_type": "execute_result"
    }
   ],
   "source": [
    "model1.evaluate(X, Y)"
   ]
  },
  {
   "cell_type": "code",
   "execution_count": 16,
   "metadata": {},
   "outputs": [
    {
     "name": "stdout",
     "output_type": "stream",
     "text": [
      "[10.553851226806641, 10.553855895996094, 2.773925304412842, 299.4363708496094, 0.412200003862381]\n",
      "[10.946973991394042, 10.946974754333496, 2.808204412460327, 292.7363586425781, 0.39899998903274536]\n",
      "[12.37019051361084, 12.370186805725098, 2.927151918411255, 438.6268615722656, 0.36039999127388]\n",
      "[10.715682873535156, 10.715682983398438, 2.787353992462158, 270.9161682128906, 0.4025999903678894]\n",
      "[10.552935491943359, 10.552936553955078, 2.773698091506958, 300.0198669433594, 0.41339999437332153]\n",
      "[18.909231188964842, 18.909221649169922, 3.5501444339752197, 392.52667236328125, 0.18700000643730164]\n",
      "[10.557281617736816, 10.557279586791992, 2.7740864753723145, 298.7522277832031, 0.41179999709129333]\n",
      "[10.640523707580567, 10.640522003173828, 2.7825796604156494, 290.2331848144531, 0.4041999876499176]\n",
      "[10.553392935180664, 10.553390502929688, 2.773759365081787, 300.1704406738281, 0.4131999909877777]\n",
      "[10.55399521331787, 10.553994178771973, 2.773841619491577, 300.223388671875, 0.41280001401901245]\n"
     ]
    }
   ],
   "source": [
    "for i in range(10):\n",
    "    print(shuffle1[i])"
   ]
  },
  {
   "cell_type": "code",
   "execution_count": null,
   "metadata": {},
   "outputs": [],
   "source": [
    "6 3 2 4 8"
   ]
  }
 ],
 "metadata": {
  "kernelspec": {
   "display_name": "Python 3",
   "language": "python",
   "name": "python3"
  },
  "language_info": {
   "codemirror_mode": {
    "name": "ipython",
    "version": 3
   },
   "file_extension": ".py",
   "mimetype": "text/x-python",
   "name": "python",
   "nbconvert_exporter": "python",
   "pygments_lexer": "ipython3",
   "version": "3.7.6"
  }
 },
 "nbformat": 4,
 "nbformat_minor": 4
}
