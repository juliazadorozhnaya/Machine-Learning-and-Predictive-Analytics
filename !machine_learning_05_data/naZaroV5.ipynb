{
 "cells": [
  {
   "cell_type": "code",
   "execution_count": 7,
   "id": "d990a6a3",
   "metadata": {},
   "outputs": [],
   "source": [
    "%matplotlib inline\n",
    "import numpy as np\n",
    "import pandas as pd\n",
    "from numpy.random import seed #normal,random,binomial,,choice\n",
    "import matplotlib.pyplot as plt\n",
    "plt.style.use('ggplot')\n",
    "from sklearn.svm import SVC #, SVR, LinearSVC, LinearSVR\n",
    "from sklearn.preprocessing import StandardScaler #LabelEncoder, \n",
    "from sklearn.model_selection import cross_val_score,GridSearchCV,train_test_split\n",
    "#from lightgbm import LGBMClassifier\n",
    "from sklearn.metrics import confusion_matrix, roc_auc_score, roc_curve \n",
    "from sklearn.metrics import accuracy_score, cohen_kappa_score\n",
    "import string"
   ]
  },
  {
   "cell_type": "code",
   "execution_count": 8,
   "id": "99c44649",
   "metadata": {},
   "outputs": [],
   "source": [
    "data_path = \"/Users/yu.zadorozhnaya/Machine-Learning-and-Predictive-Analytics-MSU-/machine_learning_05_data/\"  "
   ]
  },
  {
   "cell_type": "code",
   "execution_count": 9,
   "id": "fd86e3ae",
   "metadata": {},
   "outputs": [
    {
     "data": {
      "text/html": [
       "<div>\n",
       "<style scoped>\n",
       "    .dataframe tbody tr th:only-of-type {\n",
       "        vertical-align: middle;\n",
       "    }\n",
       "\n",
       "    .dataframe tbody tr th {\n",
       "        vertical-align: top;\n",
       "    }\n",
       "\n",
       "    .dataframe thead th {\n",
       "        text-align: right;\n",
       "    }\n",
       "</style>\n",
       "<table border=\"1\" class=\"dataframe\">\n",
       "  <thead>\n",
       "    <tr style=\"text-align: right;\">\n",
       "      <th></th>\n",
       "      <th>ID</th>\n",
       "      <th>x0</th>\n",
       "      <th>x1</th>\n",
       "    </tr>\n",
       "  </thead>\n",
       "  <tbody>\n",
       "    <tr>\n",
       "      <th>0</th>\n",
       "      <td>0</td>\n",
       "      <td>22.026370</td>\n",
       "      <td>13.306536</td>\n",
       "    </tr>\n",
       "    <tr>\n",
       "      <th>1</th>\n",
       "      <td>1</td>\n",
       "      <td>-3.077399</td>\n",
       "      <td>14.787188</td>\n",
       "    </tr>\n",
       "    <tr>\n",
       "      <th>2</th>\n",
       "      <td>2</td>\n",
       "      <td>23.081295</td>\n",
       "      <td>11.542151</td>\n",
       "    </tr>\n",
       "    <tr>\n",
       "      <th>3</th>\n",
       "      <td>3</td>\n",
       "      <td>17.416556</td>\n",
       "      <td>27.521245</td>\n",
       "    </tr>\n",
       "    <tr>\n",
       "      <th>4</th>\n",
       "      <td>4</td>\n",
       "      <td>15.844817</td>\n",
       "      <td>16.029636</td>\n",
       "    </tr>\n",
       "  </tbody>\n",
       "</table>\n",
       "</div>"
      ],
      "text/plain": [
       "   ID         x0         x1\n",
       "0   0  22.026370  13.306536\n",
       "1   1  -3.077399  14.787188\n",
       "2   2  23.081295  11.542151\n",
       "3   3  17.416556  27.521245\n",
       "4   4  15.844817  16.029636"
      ]
     },
     "execution_count": 9,
     "metadata": {},
     "output_type": "execute_result"
    }
   ],
   "source": [
    "train = pd.read_csv(data_path + 'train_sample.csv')\n",
    "test = pd.read_csv(data_path + 'test_sample.csv')\n",
    "X = train.drop([\"ID\", \"class\"], axis = 1)\n",
    "Y = train[\"class\"]\n",
    "train = train.drop(\"ID\", axis = 1)\n",
    "test_ = test.drop(\"ID\", axis = 1)\n",
    "test.head()"
   ]
  },
  {
   "cell_type": "code",
   "execution_count": 10,
   "id": "509cb2eb",
   "metadata": {},
   "outputs": [
    {
     "name": "stdout",
     "output_type": "stream",
     "text": [
      "0.740000 with:  {'C': 15, 'gamma': 10.0}\n",
      "0.840000 with:  {'C': 15, 'gamma': 1.0}\n",
      "0.876000 with:  {'C': 15, 'gamma': 0.1}\n",
      "0.891000 with:  {'C': 15, 'gamma': 0.010000000000000002}\n",
      "0.883000 with:  {'C': 15, 'gamma': 0.0010000000000000002}\n",
      "0.740000 with:  {'C': 20, 'gamma': 10.0}\n",
      "0.836000 with:  {'C': 20, 'gamma': 1.0}\n",
      "0.871000 with:  {'C': 20, 'gamma': 0.1}\n",
      "0.891000 with:  {'C': 20, 'gamma': 0.010000000000000002}\n",
      "0.884000 with:  {'C': 20, 'gamma': 0.0010000000000000002}\n",
      "0.740000 with:  {'C': 25, 'gamma': 10.0}\n",
      "0.833000 with:  {'C': 25, 'gamma': 1.0}\n",
      "0.867000 with:  {'C': 25, 'gamma': 0.1}\n",
      "0.894000 with:  {'C': 25, 'gamma': 0.010000000000000002}\n",
      "0.882000 with:  {'C': 25, 'gamma': 0.0010000000000000002}\n"
     ]
    }
   ],
   "source": [
    "param_test = {'gamma':.1**np.arange(-1,4), 'C': 5*np.arange(3,6)}\n",
    "grid = GridSearchCV(estimator = SVC(), param_grid = param_test, \n",
    "                    n_jobs=-1,cv=10)\n",
    "grid.fit(X, Y)\n",
    "# summarize results\n",
    "for mean,param in zip(grid.cv_results_['mean_test_score'],grid.cv_results_['params']):\n",
    "    print(\"%f with: \" % mean,param)\n",
    "bestGamma = grid.best_params_['gamma']\n",
    "bestC = grid.best_params_['C']"
   ]
  },
  {
   "cell_type": "code",
   "execution_count": 11,
   "id": "28a5638a",
   "metadata": {},
   "outputs": [],
   "source": [
    "clf = SVC(C=grid.best_params_['C'],gamma=grid.best_params_['gamma'])\n",
    "clf.fit(X, Y)\n",
    "pred = clf.predict(test_)\n"
   ]
  },
  {
   "cell_type": "code",
   "execution_count": 12,
   "id": "96092ab2",
   "metadata": {},
   "outputs": [],
   "source": [
    "test['class'] = pred\n",
    "test[['ID','class']].to_csv('submission.csv', index=False)"
   ]
  },
  {
   "cell_type": "code",
   "execution_count": null,
   "id": "e4176f90",
   "metadata": {},
   "outputs": [],
   "source": []
  }
 ],
 "metadata": {
  "kernelspec": {
   "display_name": "Python 3 (ipykernel)",
   "language": "python",
   "name": "python3"
  },
  "language_info": {
   "codemirror_mode": {
    "name": "ipython",
    "version": 3
   },
   "file_extension": ".py",
   "mimetype": "text/x-python",
   "name": "python",
   "nbconvert_exporter": "python",
   "pygments_lexer": "ipython3",
   "version": "3.9.6"
  }
 },
 "nbformat": 4,
 "nbformat_minor": 5
}
